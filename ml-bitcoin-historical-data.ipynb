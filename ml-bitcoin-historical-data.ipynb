{
 "cells": [
  {
   "cell_type": "code",
   "execution_count": 1,
   "id": "115feb02",
   "metadata": {
    "_cell_guid": "b1076dfc-b9ad-4769-8c92-a6c4dae69d19",
    "_uuid": "8f2839f25d086af736a60e9eeb907d3b93b6e0e5",
    "execution": {
     "iopub.execute_input": "2024-02-02T11:00:36.380458Z",
     "iopub.status.busy": "2024-02-02T11:00:36.380077Z",
     "iopub.status.idle": "2024-02-02T11:00:37.256053Z",
     "shell.execute_reply": "2024-02-02T11:00:37.255026Z"
    },
    "papermill": {
     "duration": 0.886452,
     "end_time": "2024-02-02T11:00:37.258552",
     "exception": false,
     "start_time": "2024-02-02T11:00:36.372100",
     "status": "completed"
    },
    "tags": []
   },
   "outputs": [
    {
     "name": "stdout",
     "output_type": "stream",
     "text": [
      "/kaggle/input/bitcoin-historical-data/bitstampUSD_1-min_data_2012-01-01_to_2021-03-31.csv\n"
     ]
    }
   ],
   "source": [
    "# This Python 3 environment comes with many helpful analytics libraries installed\n",
    "# It is defined by the kaggle/python Docker image: https://github.com/kaggle/docker-python\n",
    "# For example, here's several helpful packages to load\n",
    "\n",
    "import numpy as np # linear algebra\n",
    "import pandas as pd # data processing, CSV file I/O (e.g. pd.read_csv)\n",
    "\n",
    "# Input data files are available in the read-only \"../input/\" directory\n",
    "# For example, running this (by clicking run or pressing Shift+Enter) will list all files under the input directory\n",
    "\n",
    "import os\n",
    "for dirname, _, filenames in os.walk('/kaggle/input'):\n",
    "    for filename in filenames:\n",
    "        print(os.path.join(dirname, filename))\n",
    "\n",
    "# You can write up to 20GB to the current directory (/kaggle/working/) that gets preserved as output when you create a version using \"Save & Run All\" \n",
    "# You can also write temporary files to /kaggle/temp/, but they won't be saved outside of the current session"
   ]
  },
  {
   "cell_type": "markdown",
   "id": "e1e647d8",
   "metadata": {
    "papermill": {
     "duration": 0.005581,
     "end_time": "2024-02-02T11:00:37.270192",
     "exception": false,
     "start_time": "2024-02-02T11:00:37.264611",
     "status": "completed"
    },
    "tags": []
   },
   "source": [
    "in this case study I will use the Bitcoin historical data from year 2012 to 2021, and after preparing data to analyze I will use some machine learning models to predict the future price\n",
    "\n",
    "\n",
    "## Import Libraries"
   ]
  },
  {
   "cell_type": "code",
   "execution_count": 2,
   "id": "074e4864",
   "metadata": {
    "execution": {
     "iopub.execute_input": "2024-02-02T11:00:37.284241Z",
     "iopub.status.busy": "2024-02-02T11:00:37.283041Z",
     "iopub.status.idle": "2024-02-02T11:00:40.782347Z",
     "shell.execute_reply": "2024-02-02T11:00:40.781232Z"
    },
    "papermill": {
     "duration": 3.509032,
     "end_time": "2024-02-02T11:00:40.784834",
     "exception": false,
     "start_time": "2024-02-02T11:00:37.275802",
     "status": "completed"
    },
    "tags": []
   },
   "outputs": [],
   "source": [
    "import matplotlib.pyplot as plt\n",
    "import seaborn as sns\n",
    "\n",
    "from sklearn.preprocessing import MinMaxScaler\n",
    "from sklearn.feature_selection import VarianceThreshold\n",
    "from sklearn.model_selection import cross_val_score, train_test_split\n",
    "from sklearn.linear_model import LinearRegression\n",
    "from sklearn.tree import DecisionTreeClassifier\n",
    "from sklearn.model_selection import StratifiedKFold\n",
    "from sklearn.linear_model import LogisticRegression\n",
    "from sklearn.neighbors import KNeighborsClassifier\n",
    "from sklearn.discriminant_analysis import LinearDiscriminantAnalysis\n",
    "from sklearn.naive_bayes import GaussianNB\n",
    "from sklearn.ensemble import RandomForestRegressor\n",
    "from sklearn.metrics import mean_absolute_error\n",
    "from sklearn.svm import SVC\n",
    "import statsmodels.api as sm\n",
    "from sklearn.metrics import r2_score, mean_absolute_percentage_error"
   ]
  },
  {
   "cell_type": "code",
   "execution_count": 3,
   "id": "6935c6a5",
   "metadata": {
    "execution": {
     "iopub.execute_input": "2024-02-02T11:00:40.799355Z",
     "iopub.status.busy": "2024-02-02T11:00:40.798838Z",
     "iopub.status.idle": "2024-02-02T11:00:49.572123Z",
     "shell.execute_reply": "2024-02-02T11:00:49.571001Z"
    },
    "papermill": {
     "duration": 8.783284,
     "end_time": "2024-02-02T11:00:49.574387",
     "exception": false,
     "start_time": "2024-02-02T11:00:40.791103",
     "status": "completed"
    },
    "tags": []
   },
   "outputs": [
    {
     "data": {
      "text/html": [
       "<div>\n",
       "<style scoped>\n",
       "    .dataframe tbody tr th:only-of-type {\n",
       "        vertical-align: middle;\n",
       "    }\n",
       "\n",
       "    .dataframe tbody tr th {\n",
       "        vertical-align: top;\n",
       "    }\n",
       "\n",
       "    .dataframe thead th {\n",
       "        text-align: right;\n",
       "    }\n",
       "</style>\n",
       "<table border=\"1\" class=\"dataframe\">\n",
       "  <thead>\n",
       "    <tr style=\"text-align: right;\">\n",
       "      <th></th>\n",
       "      <th>Timestamp</th>\n",
       "      <th>Open</th>\n",
       "      <th>High</th>\n",
       "      <th>Low</th>\n",
       "      <th>Close</th>\n",
       "      <th>Volume_(BTC)</th>\n",
       "      <th>Volume_(Currency)</th>\n",
       "      <th>Weighted_Price</th>\n",
       "    </tr>\n",
       "  </thead>\n",
       "  <tbody>\n",
       "    <tr>\n",
       "      <th>0</th>\n",
       "      <td>1325317920</td>\n",
       "      <td>4.39</td>\n",
       "      <td>4.39</td>\n",
       "      <td>4.39</td>\n",
       "      <td>4.39</td>\n",
       "      <td>0.455581</td>\n",
       "      <td>2.0</td>\n",
       "      <td>4.39</td>\n",
       "    </tr>\n",
       "    <tr>\n",
       "      <th>1</th>\n",
       "      <td>1325317980</td>\n",
       "      <td>NaN</td>\n",
       "      <td>NaN</td>\n",
       "      <td>NaN</td>\n",
       "      <td>NaN</td>\n",
       "      <td>NaN</td>\n",
       "      <td>NaN</td>\n",
       "      <td>NaN</td>\n",
       "    </tr>\n",
       "    <tr>\n",
       "      <th>2</th>\n",
       "      <td>1325318040</td>\n",
       "      <td>NaN</td>\n",
       "      <td>NaN</td>\n",
       "      <td>NaN</td>\n",
       "      <td>NaN</td>\n",
       "      <td>NaN</td>\n",
       "      <td>NaN</td>\n",
       "      <td>NaN</td>\n",
       "    </tr>\n",
       "    <tr>\n",
       "      <th>3</th>\n",
       "      <td>1325318100</td>\n",
       "      <td>NaN</td>\n",
       "      <td>NaN</td>\n",
       "      <td>NaN</td>\n",
       "      <td>NaN</td>\n",
       "      <td>NaN</td>\n",
       "      <td>NaN</td>\n",
       "      <td>NaN</td>\n",
       "    </tr>\n",
       "    <tr>\n",
       "      <th>4</th>\n",
       "      <td>1325318160</td>\n",
       "      <td>NaN</td>\n",
       "      <td>NaN</td>\n",
       "      <td>NaN</td>\n",
       "      <td>NaN</td>\n",
       "      <td>NaN</td>\n",
       "      <td>NaN</td>\n",
       "      <td>NaN</td>\n",
       "    </tr>\n",
       "  </tbody>\n",
       "</table>\n",
       "</div>"
      ],
      "text/plain": [
       "    Timestamp  Open  High   Low  Close  Volume_(BTC)  Volume_(Currency)  \\\n",
       "0  1325317920  4.39  4.39  4.39   4.39      0.455581                2.0   \n",
       "1  1325317980   NaN   NaN   NaN    NaN           NaN                NaN   \n",
       "2  1325318040   NaN   NaN   NaN    NaN           NaN                NaN   \n",
       "3  1325318100   NaN   NaN   NaN    NaN           NaN                NaN   \n",
       "4  1325318160   NaN   NaN   NaN    NaN           NaN                NaN   \n",
       "\n",
       "   Weighted_Price  \n",
       "0            4.39  \n",
       "1             NaN  \n",
       "2             NaN  \n",
       "3             NaN  \n",
       "4             NaN  "
      ]
     },
     "execution_count": 3,
     "metadata": {},
     "output_type": "execute_result"
    }
   ],
   "source": [
    "# Load dataset\n",
    "url = '/kaggle/input/bitcoin-historical-data/bitstampUSD_1-min_data_2012-01-01_to_2021-03-31.csv'\n",
    "BTC_df = pd.read_csv(url)\n",
    "BTC_df.head()"
   ]
  },
  {
   "cell_type": "code",
   "execution_count": 4,
   "id": "823be1b2",
   "metadata": {
    "execution": {
     "iopub.execute_input": "2024-02-02T11:00:49.588364Z",
     "iopub.status.busy": "2024-02-02T11:00:49.587961Z",
     "iopub.status.idle": "2024-02-02T11:00:52.150064Z",
     "shell.execute_reply": "2024-02-02T11:00:52.148972Z"
    },
    "papermill": {
     "duration": 2.57168,
     "end_time": "2024-02-02T11:00:52.152413",
     "exception": false,
     "start_time": "2024-02-02T11:00:49.580733",
     "status": "completed"
    },
    "tags": []
   },
   "outputs": [
    {
     "name": "stdout",
     "output_type": "stream",
     "text": [
      "(4857377, 8)\n",
      "<class 'pandas.core.frame.DataFrame'>\n",
      "RangeIndex: 4857377 entries, 0 to 4857376\n",
      "Data columns (total 8 columns):\n",
      " #   Column             Dtype  \n",
      "---  ------             -----  \n",
      " 0   Timestamp          int64  \n",
      " 1   Open               float64\n",
      " 2   High               float64\n",
      " 3   Low                float64\n",
      " 4   Close              float64\n",
      " 5   Volume_(BTC)       float64\n",
      " 6   Volume_(Currency)  float64\n",
      " 7   Weighted_Price     float64\n",
      "dtypes: float64(7), int64(1)\n",
      "memory usage: 296.5 MB\n"
     ]
    },
    {
     "data": {
      "text/html": [
       "<div>\n",
       "<style scoped>\n",
       "    .dataframe tbody tr th:only-of-type {\n",
       "        vertical-align: middle;\n",
       "    }\n",
       "\n",
       "    .dataframe tbody tr th {\n",
       "        vertical-align: top;\n",
       "    }\n",
       "\n",
       "    .dataframe thead th {\n",
       "        text-align: right;\n",
       "    }\n",
       "</style>\n",
       "<table border=\"1\" class=\"dataframe\">\n",
       "  <thead>\n",
       "    <tr style=\"text-align: right;\">\n",
       "      <th></th>\n",
       "      <th>Timestamp</th>\n",
       "      <th>Open</th>\n",
       "      <th>High</th>\n",
       "      <th>Low</th>\n",
       "      <th>Close</th>\n",
       "      <th>Volume_(BTC)</th>\n",
       "      <th>Volume_(Currency)</th>\n",
       "      <th>Weighted_Price</th>\n",
       "    </tr>\n",
       "  </thead>\n",
       "  <tbody>\n",
       "    <tr>\n",
       "      <th>count</th>\n",
       "      <td>4.857377e+06</td>\n",
       "      <td>3.613769e+06</td>\n",
       "      <td>3.613769e+06</td>\n",
       "      <td>3.613769e+06</td>\n",
       "      <td>3.613769e+06</td>\n",
       "      <td>3.613769e+06</td>\n",
       "      <td>3.613769e+06</td>\n",
       "      <td>3.613769e+06</td>\n",
       "    </tr>\n",
       "    <tr>\n",
       "      <th>mean</th>\n",
       "      <td>1.471301e+09</td>\n",
       "      <td>6.009024e+03</td>\n",
       "      <td>6.013357e+03</td>\n",
       "      <td>6.004488e+03</td>\n",
       "      <td>6.009014e+03</td>\n",
       "      <td>9.323249e+00</td>\n",
       "      <td>4.176284e+04</td>\n",
       "      <td>6.008935e+03</td>\n",
       "    </tr>\n",
       "    <tr>\n",
       "      <th>std</th>\n",
       "      <td>8.428019e+07</td>\n",
       "      <td>8.996247e+03</td>\n",
       "      <td>9.003521e+03</td>\n",
       "      <td>8.988778e+03</td>\n",
       "      <td>8.996360e+03</td>\n",
       "      <td>3.054989e+01</td>\n",
       "      <td>1.518248e+05</td>\n",
       "      <td>8.995992e+03</td>\n",
       "    </tr>\n",
       "    <tr>\n",
       "      <th>min</th>\n",
       "      <td>1.325318e+09</td>\n",
       "      <td>3.800000e+00</td>\n",
       "      <td>3.800000e+00</td>\n",
       "      <td>1.500000e+00</td>\n",
       "      <td>1.500000e+00</td>\n",
       "      <td>0.000000e+00</td>\n",
       "      <td>0.000000e+00</td>\n",
       "      <td>3.800000e+00</td>\n",
       "    </tr>\n",
       "    <tr>\n",
       "      <th>25%</th>\n",
       "      <td>1.398179e+09</td>\n",
       "      <td>4.438600e+02</td>\n",
       "      <td>4.440000e+02</td>\n",
       "      <td>4.435200e+02</td>\n",
       "      <td>4.438600e+02</td>\n",
       "      <td>4.097759e-01</td>\n",
       "      <td>4.521422e+02</td>\n",
       "      <td>4.438306e+02</td>\n",
       "    </tr>\n",
       "    <tr>\n",
       "      <th>50%</th>\n",
       "      <td>1.471428e+09</td>\n",
       "      <td>3.596970e+03</td>\n",
       "      <td>3.598190e+03</td>\n",
       "      <td>3.595620e+03</td>\n",
       "      <td>3.597000e+03</td>\n",
       "      <td>1.979811e+00</td>\n",
       "      <td>3.810124e+03</td>\n",
       "      <td>3.596804e+03</td>\n",
       "    </tr>\n",
       "    <tr>\n",
       "      <th>75%</th>\n",
       "      <td>1.544288e+09</td>\n",
       "      <td>8.627270e+03</td>\n",
       "      <td>8.632980e+03</td>\n",
       "      <td>8.621090e+03</td>\n",
       "      <td>8.627160e+03</td>\n",
       "      <td>7.278216e+00</td>\n",
       "      <td>2.569821e+04</td>\n",
       "      <td>8.627637e+03</td>\n",
       "    </tr>\n",
       "    <tr>\n",
       "      <th>max</th>\n",
       "      <td>1.617149e+09</td>\n",
       "      <td>6.176356e+04</td>\n",
       "      <td>6.178183e+04</td>\n",
       "      <td>6.167355e+04</td>\n",
       "      <td>6.178180e+04</td>\n",
       "      <td>5.853852e+03</td>\n",
       "      <td>1.390067e+07</td>\n",
       "      <td>6.171621e+04</td>\n",
       "    </tr>\n",
       "  </tbody>\n",
       "</table>\n",
       "</div>"
      ],
      "text/plain": [
       "          Timestamp          Open          High           Low         Close  \\\n",
       "count  4.857377e+06  3.613769e+06  3.613769e+06  3.613769e+06  3.613769e+06   \n",
       "mean   1.471301e+09  6.009024e+03  6.013357e+03  6.004488e+03  6.009014e+03   \n",
       "std    8.428019e+07  8.996247e+03  9.003521e+03  8.988778e+03  8.996360e+03   \n",
       "min    1.325318e+09  3.800000e+00  3.800000e+00  1.500000e+00  1.500000e+00   \n",
       "25%    1.398179e+09  4.438600e+02  4.440000e+02  4.435200e+02  4.438600e+02   \n",
       "50%    1.471428e+09  3.596970e+03  3.598190e+03  3.595620e+03  3.597000e+03   \n",
       "75%    1.544288e+09  8.627270e+03  8.632980e+03  8.621090e+03  8.627160e+03   \n",
       "max    1.617149e+09  6.176356e+04  6.178183e+04  6.167355e+04  6.178180e+04   \n",
       "\n",
       "       Volume_(BTC)  Volume_(Currency)  Weighted_Price  \n",
       "count  3.613769e+06       3.613769e+06    3.613769e+06  \n",
       "mean   9.323249e+00       4.176284e+04    6.008935e+03  \n",
       "std    3.054989e+01       1.518248e+05    8.995992e+03  \n",
       "min    0.000000e+00       0.000000e+00    3.800000e+00  \n",
       "25%    4.097759e-01       4.521422e+02    4.438306e+02  \n",
       "50%    1.979811e+00       3.810124e+03    3.596804e+03  \n",
       "75%    7.278216e+00       2.569821e+04    8.627637e+03  \n",
       "max    5.853852e+03       1.390067e+07    6.171621e+04  "
      ]
     },
     "execution_count": 4,
     "metadata": {},
     "output_type": "execute_result"
    }
   ],
   "source": [
    "# printing informarion about data frame and calculating descriprive statistics\n",
    "print(BTC_df.shape)\n",
    "BTC_df.info()\n",
    "BTC_df.describe()"
   ]
  },
  {
   "cell_type": "markdown",
   "id": "a6fd5cb6",
   "metadata": {
    "papermill": {
     "duration": 0.006254,
     "end_time": "2024-02-02T11:00:52.165131",
     "exception": false,
     "start_time": "2024-02-02T11:00:52.158877",
     "status": "completed"
    },
    "tags": []
   },
   "source": [
    "## Data Cleaning\n",
    "\n",
    "finding the NANs cells and removing them\n",
    "\n",
    "reset the index and check the new shape of data frame"
   ]
  },
  {
   "cell_type": "code",
   "execution_count": 5,
   "id": "aeb4547c",
   "metadata": {
    "execution": {
     "iopub.execute_input": "2024-02-02T11:00:52.180006Z",
     "iopub.status.busy": "2024-02-02T11:00:52.179628Z",
     "iopub.status.idle": "2024-02-02T11:00:52.243986Z",
     "shell.execute_reply": "2024-02-02T11:00:52.242898Z"
    },
    "papermill": {
     "duration": 0.074795,
     "end_time": "2024-02-02T11:00:52.246545",
     "exception": false,
     "start_time": "2024-02-02T11:00:52.171750",
     "status": "completed"
    },
    "tags": []
   },
   "outputs": [
    {
     "data": {
      "text/plain": [
       "Timestamp                  0\n",
       "Open                 1243608\n",
       "High                 1243608\n",
       "Low                  1243608\n",
       "Close                1243608\n",
       "Volume_(BTC)         1243608\n",
       "Volume_(Currency)    1243608\n",
       "Weighted_Price       1243608\n",
       "dtype: int64"
      ]
     },
     "execution_count": 5,
     "metadata": {},
     "output_type": "execute_result"
    }
   ],
   "source": [
    "# Identify Missig Values\n",
    "\n",
    "BTC_df.isnull().sum()"
   ]
  },
  {
   "cell_type": "markdown",
   "id": "0f4fef55",
   "metadata": {
    "papermill": {
     "duration": 0.006427,
     "end_time": "2024-02-02T11:00:52.259981",
     "exception": false,
     "start_time": "2024-02-02T11:00:52.253554",
     "status": "completed"
    },
    "tags": []
   },
   "source": [
    "it is shown that the 25% of our data has missing value ( 1243608 out of 4857377 )\n",
    "\n",
    "there is many strategies that we can do:\n",
    "\n",
    "* deleting the missing rows and make the model to 75% of our dataset\n"
   ]
  },
  {
   "cell_type": "code",
   "execution_count": 6,
   "id": "cc4098e3",
   "metadata": {
    "execution": {
     "iopub.execute_input": "2024-02-02T11:00:52.275140Z",
     "iopub.status.busy": "2024-02-02T11:00:52.274749Z",
     "iopub.status.idle": "2024-02-02T11:00:52.549922Z",
     "shell.execute_reply": "2024-02-02T11:00:52.548775Z"
    },
    "papermill": {
     "duration": 0.285184,
     "end_time": "2024-02-02T11:00:52.551965",
     "exception": false,
     "start_time": "2024-02-02T11:00:52.266781",
     "status": "completed"
    },
    "tags": []
   },
   "outputs": [
    {
     "name": "stdout",
     "output_type": "stream",
     "text": [
      "(3613769, 8)\n",
      "<class 'pandas.core.frame.DataFrame'>\n",
      "Index: 3613769 entries, 0 to 4857376\n",
      "Data columns (total 8 columns):\n",
      " #   Column             Dtype  \n",
      "---  ------             -----  \n",
      " 0   Timestamp          int64  \n",
      " 1   Open               float64\n",
      " 2   High               float64\n",
      " 3   Low                float64\n",
      " 4   Close              float64\n",
      " 5   Volume_(BTC)       float64\n",
      " 6   Volume_(Currency)  float64\n",
      " 7   Weighted_Price     float64\n",
      "dtypes: float64(7), int64(1)\n",
      "memory usage: 248.1 MB\n"
     ]
    },
    {
     "data": {
      "text/plain": [
       "Timestamp            0\n",
       "Open                 0\n",
       "High                 0\n",
       "Low                  0\n",
       "Close                0\n",
       "Volume_(BTC)         0\n",
       "Volume_(Currency)    0\n",
       "Weighted_Price       0\n",
       "dtype: int64"
      ]
     },
     "execution_count": 6,
     "metadata": {},
     "output_type": "execute_result"
    }
   ],
   "source": [
    "# Drop nan rows from dataset\n",
    "\n",
    "BTC_cleaned = BTC_df.dropna()\n",
    "print(BTC_cleaned.shape)\n",
    "BTC_cleaned.info()\n",
    "BTC_cleaned.isna().sum()"
   ]
  },
  {
   "cell_type": "code",
   "execution_count": 7,
   "id": "584c446a",
   "metadata": {
    "execution": {
     "iopub.execute_input": "2024-02-02T11:00:52.567647Z",
     "iopub.status.busy": "2024-02-02T11:00:52.567257Z",
     "iopub.status.idle": "2024-02-02T11:00:57.129900Z",
     "shell.execute_reply": "2024-02-02T11:00:57.129198Z"
    },
    "papermill": {
     "duration": 4.572941,
     "end_time": "2024-02-02T11:00:57.131827",
     "exception": false,
     "start_time": "2024-02-02T11:00:52.558886",
     "status": "completed"
    },
    "tags": []
   },
   "outputs": [
    {
     "data": {
      "text/plain": [
       "(3613769, 8)"
      ]
     },
     "execution_count": 7,
     "metadata": {},
     "output_type": "execute_result"
    }
   ],
   "source": [
    "# droping the duplicates\n",
    "BTC_cleaned.drop_duplicates()\n",
    "BTC_cleaned.shape"
   ]
  },
  {
   "cell_type": "markdown",
   "id": "365f5ac1",
   "metadata": {
    "papermill": {
     "duration": 0.006607,
     "end_time": "2024-02-02T11:00:57.145226",
     "exception": false,
     "start_time": "2024-02-02T11:00:57.138619",
     "status": "completed"
    },
    "tags": []
   },
   "source": [
    "## Data Preprocessing"
   ]
  },
  {
   "cell_type": "code",
   "execution_count": 8,
   "id": "a0eeb615",
   "metadata": {
    "execution": {
     "iopub.execute_input": "2024-02-02T11:00:57.161775Z",
     "iopub.status.busy": "2024-02-02T11:00:57.160867Z",
     "iopub.status.idle": "2024-02-02T11:00:57.180988Z",
     "shell.execute_reply": "2024-02-02T11:00:57.179919Z"
    },
    "papermill": {
     "duration": 0.030199,
     "end_time": "2024-02-02T11:00:57.183097",
     "exception": false,
     "start_time": "2024-02-02T11:00:57.152898",
     "status": "completed"
    },
    "tags": []
   },
   "outputs": [
    {
     "name": "stdout",
     "output_type": "stream",
     "text": [
      "<class 'pandas.core.frame.DataFrame'>\n",
      "RangeIndex: 3613769 entries, 0 to 3613768\n",
      "Data columns (total 8 columns):\n",
      " #   Column             Dtype  \n",
      "---  ------             -----  \n",
      " 0   Timestamp          int64  \n",
      " 1   Open               float64\n",
      " 2   High               float64\n",
      " 3   Low                float64\n",
      " 4   Close              float64\n",
      " 5   Volume_(BTC)       float64\n",
      " 6   Volume_(Currency)  float64\n",
      " 7   Weighted_Price     float64\n",
      "dtypes: float64(7), int64(1)\n",
      "memory usage: 220.6 MB\n"
     ]
    },
    {
     "data": {
      "text/html": [
       "<div>\n",
       "<style scoped>\n",
       "    .dataframe tbody tr th:only-of-type {\n",
       "        vertical-align: middle;\n",
       "    }\n",
       "\n",
       "    .dataframe tbody tr th {\n",
       "        vertical-align: top;\n",
       "    }\n",
       "\n",
       "    .dataframe thead th {\n",
       "        text-align: right;\n",
       "    }\n",
       "</style>\n",
       "<table border=\"1\" class=\"dataframe\">\n",
       "  <thead>\n",
       "    <tr style=\"text-align: right;\">\n",
       "      <th></th>\n",
       "      <th>Timestamp</th>\n",
       "      <th>Open</th>\n",
       "      <th>High</th>\n",
       "      <th>Low</th>\n",
       "      <th>Close</th>\n",
       "      <th>Volume_(BTC)</th>\n",
       "      <th>Volume_(Currency)</th>\n",
       "      <th>Weighted_Price</th>\n",
       "    </tr>\n",
       "  </thead>\n",
       "  <tbody>\n",
       "    <tr>\n",
       "      <th>0</th>\n",
       "      <td>1325317920</td>\n",
       "      <td>4.39</td>\n",
       "      <td>4.39</td>\n",
       "      <td>4.39</td>\n",
       "      <td>4.39</td>\n",
       "      <td>0.455581</td>\n",
       "      <td>2.000000</td>\n",
       "      <td>4.390000</td>\n",
       "    </tr>\n",
       "    <tr>\n",
       "      <th>1</th>\n",
       "      <td>1325346600</td>\n",
       "      <td>4.39</td>\n",
       "      <td>4.39</td>\n",
       "      <td>4.39</td>\n",
       "      <td>4.39</td>\n",
       "      <td>48.000000</td>\n",
       "      <td>210.720000</td>\n",
       "      <td>4.390000</td>\n",
       "    </tr>\n",
       "    <tr>\n",
       "      <th>2</th>\n",
       "      <td>1325350740</td>\n",
       "      <td>4.50</td>\n",
       "      <td>4.57</td>\n",
       "      <td>4.50</td>\n",
       "      <td>4.57</td>\n",
       "      <td>37.862297</td>\n",
       "      <td>171.380338</td>\n",
       "      <td>4.526411</td>\n",
       "    </tr>\n",
       "    <tr>\n",
       "      <th>3</th>\n",
       "      <td>1325350800</td>\n",
       "      <td>4.58</td>\n",
       "      <td>4.58</td>\n",
       "      <td>4.58</td>\n",
       "      <td>4.58</td>\n",
       "      <td>9.000000</td>\n",
       "      <td>41.220000</td>\n",
       "      <td>4.580000</td>\n",
       "    </tr>\n",
       "    <tr>\n",
       "      <th>4</th>\n",
       "      <td>1325391360</td>\n",
       "      <td>4.58</td>\n",
       "      <td>4.58</td>\n",
       "      <td>4.58</td>\n",
       "      <td>4.58</td>\n",
       "      <td>1.502000</td>\n",
       "      <td>6.879160</td>\n",
       "      <td>4.580000</td>\n",
       "    </tr>\n",
       "  </tbody>\n",
       "</table>\n",
       "</div>"
      ],
      "text/plain": [
       "    Timestamp  Open  High   Low  Close  Volume_(BTC)  Volume_(Currency)  \\\n",
       "0  1325317920  4.39  4.39  4.39   4.39      0.455581           2.000000   \n",
       "1  1325346600  4.39  4.39  4.39   4.39     48.000000         210.720000   \n",
       "2  1325350740  4.50  4.57  4.50   4.57     37.862297         171.380338   \n",
       "3  1325350800  4.58  4.58  4.58   4.58      9.000000          41.220000   \n",
       "4  1325391360  4.58  4.58  4.58   4.58      1.502000           6.879160   \n",
       "\n",
       "   Weighted_Price  \n",
       "0        4.390000  \n",
       "1        4.390000  \n",
       "2        4.526411  \n",
       "3        4.580000  \n",
       "4        4.580000  "
      ]
     },
     "execution_count": 8,
     "metadata": {},
     "output_type": "execute_result"
    }
   ],
   "source": [
    "# reset the index of dataset\n",
    "\n",
    "BTC_cleaned.reset_index(inplace=True, drop=True)\n",
    "\n",
    "# converting to the right formats\n",
    "\n",
    "#BTC_cleaned['Timestamp'] = pd.to_datetime(BTC_cleaned['Timestamp'], unit='s')\n",
    "#BTC_replaced['Timestamp'] = pd.to_datetime(BTC_replaced['Timestamp'], unit='s')\n",
    "\n",
    "\n",
    "# printing the information of each\n",
    "\n",
    "BTC_cleaned.info()\n",
    "BTC_cleaned.head()\n",
    "\n"
   ]
  },
  {
   "cell_type": "code",
   "execution_count": 9,
   "id": "322761b2",
   "metadata": {
    "execution": {
     "iopub.execute_input": "2024-02-02T11:00:57.199103Z",
     "iopub.status.busy": "2024-02-02T11:00:57.198728Z",
     "iopub.status.idle": "2024-02-02T11:01:02.265366Z",
     "shell.execute_reply": "2024-02-02T11:01:02.264343Z"
    },
    "papermill": {
     "duration": 5.078239,
     "end_time": "2024-02-02T11:01:02.268598",
     "exception": false,
     "start_time": "2024-02-02T11:00:57.190359",
     "status": "completed"
    },
    "tags": []
   },
   "outputs": [
    {
     "data": {
      "image/png": "[encoded data removed]",
      "text/plain": [
       "<Figure size 640x480 with 1 Axes>"
      ]
     },
     "metadata": {},
     "output_type": "display_data"
    }
   ],
   "source": [
    "BTC_cleaned.plot(kind = 'line', color = 'b',x=\"Timestamp\",y=\"High\", logy=True)\n",
    "plt.title('Bitcoin Price History')\n",
    "plt.xlabel('Date')\n",
    "plt.ylabel('Price ($)')\n",
    "plt.show()\n"
   ]
  },
  {
   "cell_type": "code",
   "execution_count": 10,
   "id": "3639f67f",
   "metadata": {
    "execution": {
     "iopub.execute_input": "2024-02-02T11:01:02.286983Z",
     "iopub.status.busy": "2024-02-02T11:01:02.286118Z",
     "iopub.status.idle": "2024-02-02T11:01:02.980373Z",
     "shell.execute_reply": "2024-02-02T11:01:02.979242Z"
    },
    "papermill": {
     "duration": 0.705982,
     "end_time": "2024-02-02T11:01:02.982720",
     "exception": false,
     "start_time": "2024-02-02T11:01:02.276738",
     "status": "completed"
    },
    "tags": []
   },
   "outputs": [
    {
     "data": {
      "image/png": "[encoded data removed]",
      "text/plain": [
       "<Figure size 640x480 with 1 Axes>"
      ]
     },
     "metadata": {},
     "output_type": "display_data"
    }
   ],
   "source": [
    "BTC_cleaned.High.plot(kind = 'line', color = 'g',label = 'High Val',linewidth=1,alpha = 0.5,grid = True,linestyle = '-')\n",
    "plt.legend(loc='upper left')     # legend = puts label into plot\n",
    "plt.title('Bitcoin Price History')\n",
    "plt.xlabel('Date')\n",
    "plt.ylabel('Price ($)')\n",
    "plt.show()"
   ]
  },
  {
   "cell_type": "code",
   "execution_count": 11,
   "id": "75c10b0e",
   "metadata": {
    "execution": {
     "iopub.execute_input": "2024-02-02T11:01:03.001347Z",
     "iopub.status.busy": "2024-02-02T11:01:03.000932Z",
     "iopub.status.idle": "2024-02-02T11:01:03.676154Z",
     "shell.execute_reply": "2024-02-02T11:01:03.674987Z"
    },
    "papermill": {
     "duration": 0.687543,
     "end_time": "2024-02-02T11:01:03.678580",
     "exception": false,
     "start_time": "2024-02-02T11:01:02.991037",
     "status": "completed"
    },
    "tags": []
   },
   "outputs": [
    {
     "data": {
      "image/png": "[encoded data removed]",
      "text/plain": [
       "<Figure size 640x480 with 1 Axes>"
      ]
     },
     "metadata": {},
     "output_type": "display_data"
    }
   ],
   "source": [
    "BTC_cleaned.Low.plot(kind = 'line', color = 'g',label = 'Low Val',linewidth=1,alpha = 0.5,grid = True,linestyle = '-')\n",
    "plt.legend(loc='upper left')     # legend = puts label into plot\n",
    "plt.title('Bitcoin Price History')\n",
    "plt.xlabel('Date')\n",
    "plt.ylabel('Price ($)')\n",
    "plt.show()"
   ]
  },
  {
   "cell_type": "markdown",
   "id": "a211cf34",
   "metadata": {
    "papermill": {
     "duration": 0.008578,
     "end_time": "2024-02-02T11:01:03.696392",
     "exception": false,
     "start_time": "2024-02-02T11:01:03.687814",
     "status": "completed"
    },
    "tags": []
   },
   "source": [
    "### making train and test datasets"
   ]
  },
  {
   "cell_type": "code",
   "execution_count": 12,
   "id": "ca660691",
   "metadata": {
    "execution": {
     "iopub.execute_input": "2024-02-02T11:01:03.715907Z",
     "iopub.status.busy": "2024-02-02T11:01:03.715523Z",
     "iopub.status.idle": "2024-02-02T11:01:03.730852Z",
     "shell.execute_reply": "2024-02-02T11:01:03.729777Z"
    },
    "papermill": {
     "duration": 0.028149,
     "end_time": "2024-02-02T11:01:03.733399",
     "exception": false,
     "start_time": "2024-02-02T11:01:03.705250",
     "status": "completed"
    },
    "tags": []
   },
   "outputs": [
    {
     "data": {
      "text/html": [
       "<div>\n",
       "<style scoped>\n",
       "    .dataframe tbody tr th:only-of-type {\n",
       "        vertical-align: middle;\n",
       "    }\n",
       "\n",
       "    .dataframe tbody tr th {\n",
       "        vertical-align: top;\n",
       "    }\n",
       "\n",
       "    .dataframe thead th {\n",
       "        text-align: right;\n",
       "    }\n",
       "</style>\n",
       "<table border=\"1\" class=\"dataframe\">\n",
       "  <thead>\n",
       "    <tr style=\"text-align: right;\">\n",
       "      <th></th>\n",
       "      <th>Timestamp</th>\n",
       "      <th>Open</th>\n",
       "      <th>High</th>\n",
       "      <th>Low</th>\n",
       "      <th>Close</th>\n",
       "      <th>Volume_(BTC)</th>\n",
       "      <th>Volume_(Currency)</th>\n",
       "      <th>Weighted_Price</th>\n",
       "    </tr>\n",
       "  </thead>\n",
       "  <tbody>\n",
       "    <tr>\n",
       "      <th>0</th>\n",
       "      <td>1325317920</td>\n",
       "      <td>4.39</td>\n",
       "      <td>4.39</td>\n",
       "      <td>4.39</td>\n",
       "      <td>4.39</td>\n",
       "      <td>0.455581</td>\n",
       "      <td>2.000000</td>\n",
       "      <td>4.390000</td>\n",
       "    </tr>\n",
       "    <tr>\n",
       "      <th>1</th>\n",
       "      <td>1325346600</td>\n",
       "      <td>4.39</td>\n",
       "      <td>4.39</td>\n",
       "      <td>4.39</td>\n",
       "      <td>4.39</td>\n",
       "      <td>48.000000</td>\n",
       "      <td>210.720000</td>\n",
       "      <td>4.390000</td>\n",
       "    </tr>\n",
       "    <tr>\n",
       "      <th>2</th>\n",
       "      <td>1325350740</td>\n",
       "      <td>4.50</td>\n",
       "      <td>4.57</td>\n",
       "      <td>4.50</td>\n",
       "      <td>4.57</td>\n",
       "      <td>37.862297</td>\n",
       "      <td>171.380338</td>\n",
       "      <td>4.526411</td>\n",
       "    </tr>\n",
       "    <tr>\n",
       "      <th>3</th>\n",
       "      <td>1325350800</td>\n",
       "      <td>4.58</td>\n",
       "      <td>4.58</td>\n",
       "      <td>4.58</td>\n",
       "      <td>4.58</td>\n",
       "      <td>9.000000</td>\n",
       "      <td>41.220000</td>\n",
       "      <td>4.580000</td>\n",
       "    </tr>\n",
       "    <tr>\n",
       "      <th>4</th>\n",
       "      <td>1325391360</td>\n",
       "      <td>4.58</td>\n",
       "      <td>4.58</td>\n",
       "      <td>4.58</td>\n",
       "      <td>4.58</td>\n",
       "      <td>1.502000</td>\n",
       "      <td>6.879160</td>\n",
       "      <td>4.580000</td>\n",
       "    </tr>\n",
       "  </tbody>\n",
       "</table>\n",
       "</div>"
      ],
      "text/plain": [
       "    Timestamp  Open  High   Low  Close  Volume_(BTC)  Volume_(Currency)  \\\n",
       "0  1325317920  4.39  4.39  4.39   4.39      0.455581           2.000000   \n",
       "1  1325346600  4.39  4.39  4.39   4.39     48.000000         210.720000   \n",
       "2  1325350740  4.50  4.57  4.50   4.57     37.862297         171.380338   \n",
       "3  1325350800  4.58  4.58  4.58   4.58      9.000000          41.220000   \n",
       "4  1325391360  4.58  4.58  4.58   4.58      1.502000           6.879160   \n",
       "\n",
       "   Weighted_Price  \n",
       "0        4.390000  \n",
       "1        4.390000  \n",
       "2        4.526411  \n",
       "3        4.580000  \n",
       "4        4.580000  "
      ]
     },
     "execution_count": 12,
     "metadata": {},
     "output_type": "execute_result"
    }
   ],
   "source": [
    "BTC_cleaned.head()"
   ]
  },
  {
   "cell_type": "code",
   "execution_count": 13,
   "id": "93a4775c",
   "metadata": {
    "execution": {
     "iopub.execute_input": "2024-02-02T11:01:03.753034Z",
     "iopub.status.busy": "2024-02-02T11:01:03.752654Z",
     "iopub.status.idle": "2024-02-02T11:01:04.346621Z",
     "shell.execute_reply": "2024-02-02T11:01:04.345546Z"
    },
    "papermill": {
     "duration": 0.606405,
     "end_time": "2024-02-02T11:01:04.348925",
     "exception": false,
     "start_time": "2024-02-02T11:01:03.742520",
     "status": "completed"
    },
    "tags": []
   },
   "outputs": [
    {
     "name": "stderr",
     "output_type": "stream",
     "text": [
      "/tmp/ipykernel_18/1041278077.py:6: SettingWithCopyWarning: \n",
      "A value is trying to be set on a copy of a slice from a DataFrame\n",
      "\n",
      "See the caveats in the documentation: https://pandas.pydata.org/pandas-docs/stable/user_guide/indexing.html#returning-a-view-versus-a-copy\n",
      "  BTC_cleaned.rename(columns = {'Volume_(BTC)':'Volume_BTC', 'Volume_(Currency)':'Volume_USD'}, inplace = True)\n"
     ]
    },
    {
     "name": "stdout",
     "output_type": "stream",
     "text": [
      "(2891015, 4)\n",
      "(722754, 4)\n"
     ]
    }
   ],
   "source": [
    "# Train Test Split\n",
    "\n",
    "features = ['Open', 'Low', 'Volume_BTC', 'Volume_USD']\n",
    "target = 'High'\n",
    "\n",
    "BTC_cleaned.rename(columns = {'Volume_(BTC)':'Volume_BTC', 'Volume_(Currency)':'Volume_USD'}, inplace = True)\n",
    "BTC_cleaned_final = BTC_cleaned[features + [target]]\n",
    "\n",
    "array = BTC_cleaned_final.values\n",
    "X = array[:, 0:4]\n",
    "y = array[:, 4]\n",
    "\n",
    "X_train, X_valid, y_train, y_valid = train_test_split(X, y, train_size=0.8, test_size=0.2, random_state=0)\n",
    "\n",
    "print(X_train.shape)\n",
    "print(X_valid.shape)\n"
   ]
  },
  {
   "cell_type": "code",
   "execution_count": 14,
   "id": "480f414f",
   "metadata": {
    "execution": {
     "iopub.execute_input": "2024-02-02T11:01:04.369197Z",
     "iopub.status.busy": "2024-02-02T11:01:04.368467Z",
     "iopub.status.idle": "2024-02-02T11:01:04.377668Z",
     "shell.execute_reply": "2024-02-02T11:01:04.376629Z"
    },
    "papermill": {
     "duration": 0.021873,
     "end_time": "2024-02-02T11:01:04.380026",
     "exception": false,
     "start_time": "2024-02-02T11:01:04.358153",
     "status": "completed"
    },
    "tags": []
   },
   "outputs": [
    {
     "name": "stdout",
     "output_type": "stream",
     "text": [
      "<class 'pandas.core.frame.DataFrame'>\n",
      "RangeIndex: 3613769 entries, 0 to 3613768\n",
      "Data columns (total 5 columns):\n",
      " #   Column      Dtype  \n",
      "---  ------      -----  \n",
      " 0   Open        float64\n",
      " 1   Low         float64\n",
      " 2   Volume_BTC  float64\n",
      " 3   Volume_USD  float64\n",
      " 4   High        float64\n",
      "dtypes: float64(5)\n",
      "memory usage: 137.9 MB\n"
     ]
    }
   ],
   "source": [
    "BTC_cleaned_final.info()"
   ]
  },
  {
   "cell_type": "markdown",
   "id": "0a9bd830",
   "metadata": {
    "papermill": {
     "duration": 0.008712,
     "end_time": "2024-02-02T11:01:04.397976",
     "exception": false,
     "start_time": "2024-02-02T11:01:04.389264",
     "status": "completed"
    },
    "tags": []
   },
   "source": [
    "* Apply the random forest regression model to the data set"
   ]
  },
  {
   "cell_type": "code",
   "execution_count": 15,
   "id": "69b0c98d",
   "metadata": {
    "execution": {
     "iopub.execute_input": "2024-02-02T11:01:04.418224Z",
     "iopub.status.busy": "2024-02-02T11:01:04.417452Z",
     "iopub.status.idle": "2024-02-02T11:22:52.065721Z",
     "shell.execute_reply": "2024-02-02T11:22:52.064603Z"
    },
    "papermill": {
     "duration": 1307.670387,
     "end_time": "2024-02-02T11:22:52.077569",
     "exception": false,
     "start_time": "2024-02-02T11:01:04.407182",
     "status": "completed"
    },
    "tags": []
   },
   "outputs": [
    {
     "name": "stdout",
     "output_type": "stream",
     "text": [
      "MAE (Your approach):\n",
      "3.433940925976648\n"
     ]
    }
   ],
   "source": [
    "model = RandomForestRegressor(n_estimators=50, random_state=0)\n",
    "model.fit(X_train, y_train)\n",
    "\n",
    "# Get validation predictions and MAE\n",
    "preds_valid = model.predict(X_valid)\n",
    "print(\"MAE (Your approach):\")\n",
    "print(mean_absolute_error(y_valid, preds_valid))"
   ]
  },
  {
   "cell_type": "code",
   "execution_count": 16,
   "id": "3dc2be38",
   "metadata": {
    "execution": {
     "iopub.execute_input": "2024-02-02T11:22:52.098475Z",
     "iopub.status.busy": "2024-02-02T11:22:52.097808Z",
     "iopub.status.idle": "2024-02-02T11:22:53.918505Z",
     "shell.execute_reply": "2024-02-02T11:22:53.917410Z"
    },
    "papermill": {
     "duration": 1.8341,
     "end_time": "2024-02-02T11:22:53.920872",
     "exception": false,
     "start_time": "2024-02-02T11:22:52.086772",
     "status": "completed"
    },
    "tags": []
   },
   "outputs": [
    {
     "data": {
      "image/png": "[encoded data removed]",
      "text/plain": [
       "<Figure size 640x480 with 1 Axes>"
      ]
     },
     "metadata": {},
     "output_type": "display_data"
    }
   ],
   "source": [
    "\n",
    "residuals = y_valid - preds_valid\n",
    "\n",
    "plt.scatter(preds_valid, residuals, color='green')\n",
    "plt.hlines(y=0, xmin=0, xmax=max(preds_valid), color='red')\n",
    "plt.title('Residual plot')\n",
    "plt.xlabel('Predicted values')\n",
    "plt.ylabel('Residuals')\n",
    "plt.show()"
   ]
  },
  {
   "cell_type": "markdown",
   "id": "7c65b300",
   "metadata": {
    "papermill": {
     "duration": 0.009804,
     "end_time": "2024-02-02T11:22:53.940615",
     "exception": false,
     "start_time": "2024-02-02T11:22:53.930811",
     "status": "completed"
    },
    "tags": []
   },
   "source": [
    "* Apply the linear regression model to the data set"
   ]
  },
  {
   "cell_type": "code",
   "execution_count": 17,
   "id": "3c0a4fd8",
   "metadata": {
    "execution": {
     "iopub.execute_input": "2024-02-02T11:22:53.962155Z",
     "iopub.status.busy": "2024-02-02T11:22:53.961794Z",
     "iopub.status.idle": "2024-02-02T11:22:55.369017Z",
     "shell.execute_reply": "2024-02-02T11:22:55.367863Z"
    },
    "papermill": {
     "duration": 1.422089,
     "end_time": "2024-02-02T11:22:55.372605",
     "exception": false,
     "start_time": "2024-02-02T11:22:53.950516",
     "status": "completed"
    },
    "tags": []
   },
   "outputs": [
    {
     "name": "stdout",
     "output_type": "stream",
     "text": [
      "MAE (Your approach):\n",
      "3.9756394682392036\n"
     ]
    }
   ],
   "source": [
    "model = LinearRegression()\n",
    "model.fit(X_train, y_train)\n",
    "\n",
    "# Get validation predictions and MAE\n",
    "preds_valid_2 = model.predict(X_valid)\n",
    "print(\"MAE (Your approach):\")\n",
    "print(mean_absolute_error(y_valid, preds_valid_2))"
   ]
  },
  {
   "cell_type": "code",
   "execution_count": 18,
   "id": "20552d12",
   "metadata": {
    "execution": {
     "iopub.execute_input": "2024-02-02T11:22:55.412286Z",
     "iopub.status.busy": "2024-02-02T11:22:55.411571Z",
     "iopub.status.idle": "2024-02-02T11:22:56.270944Z",
     "shell.execute_reply": "2024-02-02T11:22:56.269485Z"
    },
    "papermill": {
     "duration": 0.880484,
     "end_time": "2024-02-02T11:22:56.273803",
     "exception": false,
     "start_time": "2024-02-02T11:22:55.393319",
     "status": "completed"
    },
    "tags": []
   },
   "outputs": [
    {
     "name": "stdout",
     "output_type": "stream",
     "text": [
      "MAE (Your approach):\n",
      "3.9756394682392036\n"
     ]
    }
   ],
   "source": [
    "\n",
    "model = LinearRegression()\n",
    "model.fit(X_train, y_train)\n",
    "\n",
    "# Get validation predictions and MAE\n",
    "preds_valid_3 = model.predict(X_valid)\n",
    "print(\"MAE (Your approach):\")\n",
    "print(mean_absolute_error(y_valid, preds_valid_3))"
   ]
  },
  {
   "cell_type": "code",
   "execution_count": 19,
   "id": "076cf5e8",
   "metadata": {
    "execution": {
     "iopub.execute_input": "2024-02-02T11:22:56.309975Z",
     "iopub.status.busy": "2024-02-02T11:22:56.309456Z",
     "iopub.status.idle": "2024-02-02T11:22:58.111413Z",
     "shell.execute_reply": "2024-02-02T11:22:58.110417Z"
    },
    "papermill": {
     "duration": 1.822722,
     "end_time": "2024-02-02T11:22:58.113879",
     "exception": false,
     "start_time": "2024-02-02T11:22:56.291157",
     "status": "completed"
    },
    "tags": []
   },
   "outputs": [
    {
     "data": {
      "image/png": "[encoded data removed]",
      "text/plain": [
       "<Figure size 640x480 with 1 Axes>"
      ]
     },
     "metadata": {},
     "output_type": "display_data"
    }
   ],
   "source": [
    "residuals = y_valid - preds_valid_2\n",
    "\n",
    "plt.scatter(preds_valid_2, residuals, color='blue')\n",
    "plt.hlines(y=0, xmin=0, xmax=max(preds_valid_2), color='red')\n",
    "plt.title('Residual plot')\n",
    "plt.xlabel('Predicted values')\n",
    "plt.ylabel('Residuals')\n",
    "plt.show()"
   ]
  }
 ],
 "metadata": {
  "kaggle": {
   "accelerator": "none",
   "dataSources": [
    {
     "datasetId": 1346,
     "sourceId": 2109006,
     "sourceType": "datasetVersion"
    }
   ],
   "dockerImageVersionId": 30646,
   "isGpuEnabled": false,
   "isInternetEnabled": true,
   "language": "python",
   "sourceType": "notebook"
  },
  "kernelspec": {
   "display_name": "Python 3",
   "language": "python",
   "name": "python3"
  },
  "language_info": {
   "codemirror_mode": {
    "name": "ipython",
    "version": 3
   },
   "file_extension": ".py",
   "mimetype": "text/x-python",
   "name": "python",
   "nbconvert_exporter": "python",
   "pygments_lexer": "ipython3",
   "version": "3.10.13"
  },
  "papermill": {
   "default_parameters": {},
   "duration": 1345.040762,
   "end_time": "2024-02-02T11:22:58.747816",
   "environment_variables": {},
   "exception": null,
   "input_path": "__notebook__.ipynb",
   "output_path": "__notebook__.ipynb",
   "parameters": {},
   "start_time": "2024-02-02T11:00:33.707054",
   "version": "2.5.0"
  }
 },
 "nbformat": 4,
 "nbformat_minor": 5
}
